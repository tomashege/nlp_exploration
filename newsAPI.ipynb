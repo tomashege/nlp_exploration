{
 "cells": [
  {
   "cell_type": "code",
   "execution_count": 10,
   "metadata": {},
   "outputs": [],
   "source": [
    "#https://api.smartable.ai/coronavirus/news/{location}\n",
    "import nlp_extra\n",
    "key = nlp_extra.data[\"key\"]\n",
    "# you need to get your own key \n",
    "import requests"
   ]
  },
  {
   "cell_type": "code",
   "execution_count": 11,
   "metadata": {},
   "outputs": [],
   "source": [
    "def getNews(country):\n",
    "    api_url = 'https://api.smartable.ai/coronavirus/news/'+country\n",
    "    api_params = {'Cache-Control': 'no-cache','Subscription-Key': key,}\n",
    "    r = requests.get(url=api_url, params=api_params)\n",
    "    return r.text"
   ]
  },
  {
   "cell_type": "code",
   "execution_count": 15,
   "metadata": {},
   "outputs": [
    {
     "name": "stdout",
     "output_type": "stream",
     "text": [
      "{\n",
      "  \"location\": {\n",
      "    \"long\": 22.9375,\n",
      "    \"countryOrRegion\": \"South Africa\",\n",
      "    \"provinceOrState\": null,\n",
      "    \"county\": null,\n",
      "    \"isoCode\": \"ZA\",\n",
      "    \"lat\": -30.5595\n",
      "  },\n",
      "  \"updatedDateTime\": \"2020-04-06T21:45:36.3994019Z\",\n",
      "  \"news\": []\n",
      "}\n"
     ]
    }
   ],
   "source": [
    "news = getNews(\"ZA\")\n",
    "print(news)"
   ]
  },
  {
   "cell_type": "code",
   "execution_count": null,
   "metadata": {},
   "outputs": [],
   "source": []
  }
 ],
 "metadata": {
  "kernelspec": {
   "display_name": "Python 3",
   "language": "python",
   "name": "python3"
  },
  "language_info": {
   "codemirror_mode": {
    "name": "ipython",
    "version": 3
   },
   "file_extension": ".py",
   "mimetype": "text/x-python",
   "name": "python",
   "nbconvert_exporter": "python",
   "pygments_lexer": "ipython3",
   "version": "3.7.0"
  }
 },
 "nbformat": 4,
 "nbformat_minor": 4
}
