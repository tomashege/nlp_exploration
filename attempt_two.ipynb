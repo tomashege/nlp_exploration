{
 "cells": [
  {
   "cell_type": "code",
   "execution_count": 7,
   "metadata": {},
   "outputs": [],
   "source": [
    "import numpy as np \n",
    "import pandas as pd\n",
    "import matplotlib.pyplot as plt\n",
    "import requests\n",
    "import nlp_extra\n",
    "key = nlp_extra.data\n",
    "# you need to get your own key "
   ]
  },
  {
   "cell_type": "code",
   "execution_count": 12,
   "metadata": {},
   "outputs": [],
   "source": [
    "def getStats(country):\n",
    "    api_url = 'https://api.smartable.ai/coronavirus/stats/'+country\n",
    "    api_params = {'Cache-Control': 'no-cache','Subscription-Key': key[\"key\"],}\n",
    "    r = requests.get(url=api_url, params=api_params)\n",
    "    #print(r.text)\n",
    "    return r.text"
   ]
  },
  {
   "cell_type": "code",
   "execution_count": 16,
   "metadata": {},
   "outputs": [],
   "source": [
    "file = open(\"test.txt\", \"w\") \n",
    "file.write(\"This is only for a test\") \n",
    "file.close() "
   ]
  },
  {
   "cell_type": "code",
   "execution_count": 9,
   "metadata": {},
   "outputs": [],
   "source": [
    "import json\n",
    "def create(country):\n",
    "    stats = getStats(country)\n",
    "    jdata = json.loads(stats)\n",
    "    history = pd.DataFrame(jdata[\"stats\"][\"history\"])\n",
    "    history[\"date\"] = pd.to_datetime(history[\"date\"])\n",
    "    plot = history.plot(figsize=(10,5), x=\"date\", title=jdata[\"location\"][\"countryOrRegion\"])\n",
    "    fig = plot.get_figure()\n",
    "    fig.savefig(\"output/\"+jdata[\"location\"][\"countryOrRegion\"]+\" corona virus chart.png\")"
   ]
  },
  {
   "cell_type": "code",
   "execution_count": 17,
   "metadata": {},
   "outputs": [
    {
     "name": "stdout",
     "output_type": "stream",
     "text": [
      "GB\n",
      "TR\n",
      "AT\n",
      "DE\n",
      "US\n",
      "CA\n",
      "FR\n",
      "CN\n",
      "IT\n",
      "ES\n",
      "ZA\n",
      "MR\n",
      "it is doen\n"
     ]
    }
   ],
   "source": [
    "countries = [\"GB\",\"TR\",\"AT\",\"DE\",\"US\",\"CA\",\"FR\",\"CN\",\"IT\",\"ES\", \"ZA\", \"MR\"]\n",
    "for i in countries:\n",
    "    try:\n",
    "        #create(i) - limited api calls\n",
    "        print(i)\n",
    "    except:\n",
    "        print(\"error\"+i)\n",
    "print(\"it is doen\")"
   ]
  },
  {
   "cell_type": "code",
   "execution_count": null,
   "metadata": {},
   "outputs": [],
   "source": []
  }
 ],
 "metadata": {
  "kernelspec": {
   "display_name": "Python 3",
   "language": "python",
   "name": "python3"
  },
  "language_info": {
   "codemirror_mode": {
    "name": "ipython",
    "version": 3
   },
   "file_extension": ".py",
   "mimetype": "text/x-python",
   "name": "python",
   "nbconvert_exporter": "python",
   "pygments_lexer": "ipython3",
   "version": "3.7.0"
  }
 },
 "nbformat": 4,
 "nbformat_minor": 4
}
